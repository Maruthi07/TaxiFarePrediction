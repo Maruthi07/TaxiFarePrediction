{
 "cells": [
  {
   "cell_type": "code",
   "execution_count": 1,
   "metadata": {},
   "outputs": [],
   "source": [
    "import pandas as pd\n",
    "import numpy as np\n",
    "import random\n",
    "import matplotlib.pyplot as plt\n",
    "import datetime, time"
   ]
  },
  {
   "cell_type": "code",
   "execution_count": null,
   "metadata": {},
   "outputs": [],
   "source": [
    "random.seed(1038472)\n",
    "# Need to fix the random selector in order to ensure that we are randomly selecting rows for the file\n",
    "n = 55000000 + 423844\n",
    "s = 300000\n",
    "skip = sorted(random.sample(range(1,n),n-s))\n",
    "train = pd.read_csv('train.csv', skiprows = skip)"
   ]
  },
  {
   "cell_type": "code",
   "execution_count": null,
   "metadata": {},
   "outputs": [],
   "source": [
    "# DATA CLEANING\n",
    "train = train.drop(train[pd.isnull(train['dropoff_longitude'])].index, axis = 0)\n",
    "train = train.drop(train[train['fare_amount'] <= 2.5].index, axis=0)\n",
    "train = train.drop(train[(train['passenger_count'] == 208)|(train['passenger_count'] == 0)].index, axis = 0)\n",
    "train = train.drop(train[(train['pickup_latitude'] < 40.5)|(train['pickup_latitude'] > 41.8)].index, axis=0)\n",
    "train = train.drop(train[(train['dropoff_latitude'] < 40.5)|(train['dropoff_latitude'] > 41.8)].index, axis=0)\n",
    "train = train.drop(train[(train['pickup_longitude'] < -74.5)|(train['pickup_longitude'] > -72.8)].index, axis=0)\n",
    "train = train.drop(train[(train['dropoff_longitude'] < -74.5)|(train['dropoff_longitude'] > -72.8)].index, axis=0)\n",
    "train = train.drop(train[train['passenger_count'] > 6].index, axis = 0)"
   ]
  },
  {
   "cell_type": "code",
   "execution_count": null,
   "metadata": {},
   "outputs": [],
   "source": [
    "# Change the datetime strings to datetime objects\n",
    "train['pickup_datetime']  = pd.to_datetime(train['pickup_datetime'])"
   ]
  },
  {
   "cell_type": "code",
   "execution_count": null,
   "metadata": {
    "scrolled": true
   },
   "outputs": [],
   "source": [
    "# Adding new features about the pick up / drop off times (separating datetime into its individual components)\n",
    "# These are the ones that we consider important to training our model\n",
    "train['day_of_week'] = train['pickup_datetime'].dt.dayofweek\n",
    "train['hour_of_day'] = train['pickup_datetime'].dt.hour\n",
    "train['year'] = train['pickup_datetime'].dt.year\n",
    "train['month'] = train['pickup_datetime'].dt.month\n",
    "train = train.drop(['pickup_datetime'], axis = 1)\n",
    "train.head()"
   ]
  },
  {
   "cell_type": "code",
   "execution_count": null,
   "metadata": {},
   "outputs": [],
   "source": [
    "# Adding new features to allow for our model to use information about Airport trips\n",
    "JFK_lon = -73.7822222222 \n",
    "JFK_lat = 40.6441666667\n",
    "\n",
    "def distance(lat1, lon1, lat2, lon2):\n",
    "        R = 3959 # radius of Earth in miles\n",
    "        phi1 = np.radians(lat1)\n",
    "        phi2 = np.radians(lat2)\n",
    "    \n",
    "        delta_phi = np.radians(lat2-lat1)\n",
    "        delta_lambda = np.radians(lon2-lon1)\n",
    "    \n",
    "        a = np.sin(delta_phi / 2.0) ** 2 + np.cos(phi1) * np.cos(phi2) * np.sin(delta_lambda / 2.0) ** 2\n",
    "    \n",
    "        c = 2 * np.arctan2(np.sqrt(a), np.sqrt(1-a))\n",
    "        return(R * c)\n",
    "    \n",
    "train['pickup_to_JFK_dist'] = distance(JFK_lat, JFK_lon, train['pickup_latitude'], train['pickup_longitude'])\n",
    "train['dropoff_to_JFK_dist'] = distance(JFK_lat, JFK_lon, train['dropoff_latitude'], train['dropoff_longitude'])\n",
    "\n",
    "Newark_lon = -74.1745\n",
    "Newark_lat = 40.6895\n",
    "\n",
    "train['pickup_to_Newark_dist'] = distance(Newark_lat, Newark_lon, train['pickup_latitude'], train['pickup_longitude'])\n",
    "train['dropoff_to_Newark_dist'] = distance(Newark_lat, Newark_lon, train['dropoff_latitude'], train['dropoff_longitude'])\n",
    "\n",
    "center_lon = -74.0060\n",
    "center_lat = 40.7128\n",
    "train['pickup_to_center_dist'] = distance(center_lat, center_lon, train['pickup_latitude'], train['pickup_longitude'])\n",
    "train['dropoff_to_center_dist'] = distance(center_lat, center_lon, train['dropoff_latitude'], train['dropoff_longitude'])\n",
    "\n",
    "# Creating a feature that indicates if a trip is to/from JFK Airport and Manhattan (the center of NY is in Manhattan)\n",
    "train['JFK_Man'] = np.where(((train['pickup_to_JFK_dist']< 2) & (train['dropoff_to_center_dist'] < 5)) | \n",
    "                            ((train['dropoff_to_JFK_dist']< 2) & (train['pickup_to_center_dist'] < 5)), 1, 0)\n",
    "\n",
    "# Creating a feature that indicates if a JFK/Manhattan trip is during rush hour for the surcharge\n",
    "train['rush_hr_JFK'] = np.where((train['JFK_Man'] == True) & ((train['hour_of_day'] >= 16) & (train['hour_of_day'] <= 20)), 1, 0)\n",
    "\n",
    "# Creating a feature that indicates if a trip is to Newark Airport\n",
    "train['to_Newark'] = np.where((train['pickup_to_center_dist'] < 5) & (train['dropoff_to_Newark_dist'] < 2), 1, 0)"
   ]
  },
  {
   "cell_type": "code",
   "execution_count": 11,
   "metadata": {},
   "outputs": [],
   "source": [
    "def distance(lat1, lon1, lat2, lon2):\n",
    "        R = 3959 # radius of Earth in miles\n",
    "        phi1 = np.radians(lat1)\n",
    "        phi2 = np.radians(lat2)\n",
    "    \n",
    "        delta_phi = np.radians(lat2-lat1)\n",
    "        delta_lambda = np.radians(lon2-lon1)\n",
    "    \n",
    "        a = np.sin(delta_phi / 2.0) ** 2 + np.cos(phi1) * np.cos(phi2) * np.sin(delta_lambda / 2.0) ** 2\n",
    "    \n",
    "        c = 2 * np.arctan2(np.sqrt(a), np.sqrt(1-a))\n",
    "        return(R * c)"
   ]
  },
  {
   "cell_type": "code",
   "execution_count": null,
   "metadata": {},
   "outputs": [],
   "source": [
    "len(train[train['to_Newark'] == 1])"
   ]
  },
  {
   "cell_type": "code",
   "execution_count": null,
   "metadata": {},
   "outputs": [],
   "source": [
    "train['trip_distance'] = distance(train.pickup_latitude, train.pickup_longitude, \n",
    "                                      train.dropoff_latitude, train.dropoff_longitude)\n",
    "train = train.drop(train[train['trip_distance'] == 0].index, axis = 0)"
   ]
  },
  {
   "cell_type": "code",
   "execution_count": null,
   "metadata": {},
   "outputs": [],
   "source": [
    "nyc_map_zoom = plt.imread('https://github.com/WillKoehrsen/Machine-Learning-Projects/blob/master/images/nyc_-74.1_-73.7_40.6_40.85.PNG?raw=true')\n",
    "\n",
    "def plot_on_map(df, nyc_map, s=10, alpha=0.2, color = False):\n",
    "    fig, axs = plt.subplots(1, 2, figsize=(18, 22))\n",
    "    axs[0].scatter(df.pickup_longitude, df.pickup_latitude, zorder=1, alpha=alpha, c='r', s=s)\n",
    "    axs[0].set_xlim((-74.1, -73.7))\n",
    "    axs[0].set_ylim((40.6, 40.85))\n",
    "    axs[0].set_title('Taxi Pickup Locations')\n",
    "    axs[0].axis('off')\n",
    "    axs[0].imshow(nyc_map, zorder=0, extent=(-74.1, -73.7, 40.6, 40.85))\n",
    "    axs[1].scatter(df.dropoff_longitude, df.dropoff_latitude, zorder=1, alpha=alpha, c='b', s=s)\n",
    "    axs[1].set_xlim((-74.1, -73.7))\n",
    "    axs[1].set_ylim((40.6, 40.85))\n",
    "    axs[1].set_title('Taxi Dropoff Locations')\n",
    "    axs[1].axis('off')\n",
    "    axs[1].imshow(nyc_map, zorder=0, extent=(-74.1, -73.7, 40.6, 40.85))\n",
    "    \n",
    "                  \n",
    "plot_on_map(train, nyc_map_zoom, s = 0.05, alpha = 0.05)"
   ]
  },
  {
   "cell_type": "code",
   "execution_count": null,
   "metadata": {},
   "outputs": [],
   "source": [
    "train = train.drop(['passenger_count', 'month', 'day_of_week'], axis = 1)\n",
    "print(train.corrwith(train['fare_amount']))"
   ]
  },
  {
   "cell_type": "code",
   "execution_count": 4,
   "metadata": {},
   "outputs": [],
   "source": [
    "def rotate_coordinates(df):\n",
    "    rot = np.deg2rad(29)\n",
    "    df['pickup_rot_long'] = df.pickup_longitude * np.cos(rot) - df.pickup_latitude * np.sin(rot)\n",
    "    df['pickup_rot_lat'] = df.pickup_longitude * np.sin(rot) + df.pickup_latitude * np.cos(rot)\n",
    "    df['dropoff_rot_long'] = df.dropoff_longitude * np.cos(rot) - df.dropoff_latitude * np.sin(rot)\n",
    "    df['dropoff_rot_lat'] = df.dropoff_longitude * np.sin(rot) + df.dropoff_latitude * np.cos(rot)\n",
    "    df = df.drop(['pickup_longitude','pickup_latitude', 'dropoff_latitude', 'dropoff_longitude'], axis = 1)\n",
    "    return df"
   ]
  },
  {
   "cell_type": "code",
   "execution_count": 2,
   "metadata": {},
   "outputs": [],
   "source": [
    "train = pd.read_csv('/Users/SimsMat/Desktop/STATS415/TaxiFareProject/TaxiData.csv', )"
   ]
  },
  {
   "cell_type": "code",
   "execution_count": 5,
   "metadata": {},
   "outputs": [],
   "source": [
    "train_trans = train.copy(deep=True)\n",
    "train_trans = rotate_coordinates(train_trans)\n",
    "\n",
    "# Creating data frame with haversine distance and original longitude and latitude\n",
    "train_haversine = train.copy(deep=True)\n",
    "\n",
    "# Creating data frame with haversine distance and rotated longitude and latitude\n",
    "train_haversine_rot = train_trans.copy(deep=True)"
   ]
  },
  {
   "cell_type": "code",
   "execution_count": 6,
   "metadata": {},
   "outputs": [],
   "source": [
    "from sklearn.model_selection import train_test_split\n",
    "random.seed(1038472)\n",
    "# Creating training and testing set for data with haversine and original long. and lat.\n",
    "train_h, test_h = train_test_split(train_haversine, test_size=0.2)\n",
    "y_train_h = train_h['fare_amount']\n",
    "x_train_h = train_h.drop(['key', 'fare_amount'], axis = 1)\n",
    "y_test_h = test_h['fare_amount']\n",
    "x_test_h = test_h.drop(['key', 'fare_amount'], axis = 1)\n",
    "\n",
    "# Creating training and testing set for data with haversine and rotated long. and lat.\n",
    "train_h_rot, test_h_rot = train_test_split(train_haversine_rot, test_size=0.2)\n",
    "y_train_h_rot = train_h_rot['fare_amount']\n",
    "x_train_h_rot = train_h_rot.drop(['key', 'fare_amount'], axis = 1)\n",
    "y_test_h_rot = test_h_rot['fare_amount']\n",
    "x_test_h_rot = test_h_rot.drop(['key', 'fare_amount'], axis = 1)"
   ]
  },
  {
   "cell_type": "code",
   "execution_count": 7,
   "metadata": {},
   "outputs": [
    {
     "name": "stdout",
     "output_type": "stream",
     "text": [
      "4.417129106151541\n"
     ]
    }
   ],
   "source": [
    "from sklearn.linear_model import LinearRegression\n",
    "from sklearn import metrics\n",
    "lr = LinearRegression()\n",
    "lr.fit(x_train_h, y_train_h)\n",
    "predict_regression = lr.predict(x_test_h)\n",
    "rmse_regression = np.sqrt(metrics.mean_squared_error(predict_regression, y_test_h))\n",
    "print(rmse_regression)"
   ]
  },
  {
   "cell_type": "code",
   "execution_count": null,
   "metadata": {},
   "outputs": [],
   "source": [
    "# Determining the max_depth to use when training the Random Forest\n",
    "from sklearn.ensemble import RandomForestRegressor\n",
    "max_depths = np.linspace(1, 32, 32, endpoint=True)\n",
    "test_results = []\n",
    "    \n",
    "for max_depth in max_depths:\n",
    "    rf = RandomForestRegressor(max_depth=max_depth, n_jobs=-1)\n",
    "    rf.fit(x_train_h, y_train_h)\n",
    "    predict_test = rf.predict(x_test_h)\n",
    "    rmse_test = np.sqrt(metrics.mean_squared_error(predict_test, y_test_h))\n",
    "    test_results_.append(rmse_test)"
   ]
  },
  {
   "cell_type": "code",
   "execution_count": null,
   "metadata": {},
   "outputs": [],
   "source": [
    "# Plotting the RMSE against the depth level\n",
    "plt.plot(max_depths, test_results, 'b')\n",
    "plt.title(\"The Effect of Depth on Validation RMSE\")\n",
    "plt.ylabel(\"Validation RMSE\")\n",
    "plt.xlabel(\"Max Depth Of Trees\")"
   ]
  },
  {
   "cell_type": "code",
   "execution_count": null,
   "metadata": {},
   "outputs": [],
   "source": [
    "max_depths[np.argmin(test_results)]"
   ]
  },
  {
   "cell_type": "code",
   "execution_count": null,
   "metadata": {},
   "outputs": [],
   "source": [
    "# Determining the number of trees to use when training the Random Forest\n",
    "from sklearn.ensemble import RandomForestRegressor\n",
    "num_trees = [1, 2, 4, 8, 16, 32, 64, 100, 200]\n",
    "test_results_sqrt = []\n",
    "test_results_half = []\n",
    "test_results_p = []\n",
    "    \n",
    "for num_tree in num_trees:\n",
    "    rf = RandomForestRegressor(n_estimators = num_tree, max_depth=13, max_features = 4, n_jobs=-1)\n",
    "    rf.fit(x_train_h, y_train_h)\n",
    "    predict_test_h = rf.predict(x_test_h)\n",
    "    rmse_test = np.sqrt(metrics.mean_squared_error(predict_test_h, y_test_h))\n",
    "    test_results_sqrt.append(rmse_test)\n",
    "    \n",
    "for num_tree in num_trees:\n",
    "    rf = RandomForestRegressor(n_estimators = num_tree, max_depth=13, max_features = 8, n_jobs=-1)\n",
    "    rf.fit(x_train_h, y_train_h)\n",
    "    predict_test_h = rf.predict(x_test_h)\n",
    "    rmse_test = np.sqrt(metrics.mean_squared_error(predict_test_h, y_test_h))\n",
    "    test_results_half.append(rmse_test)\n",
    "    \n",
    "for num_tree in num_trees:\n",
    "    rf = RandomForestRegressor(n_estimators = num_tree, max_depth=13, n_jobs=-1)\n",
    "    rf.fit(x_train_h, y_train_h)\n",
    "    predict_test_h = rf.predict(x_test_h)\n",
    "    rmse_test = np.sqrt(metrics.mean_squared_error(predict_test_h, y_test_h))\n",
    "    test_results_p.append(rmse_test)"
   ]
  },
  {
   "cell_type": "code",
   "execution_count": 32,
   "metadata": {},
   "outputs": [],
   "source": [
    "# Determining the minimum number of samples for a split\n",
    "num_samples = [2, 10, 50, 75, 100, 200]\n",
    "samp_result = []\n",
    "for samp in num_samples:\n",
    "    rf = RandomForestRegressor(n_estimators = 64, max_depth=13, max_features = 8, \n",
    "                               min_samples_split = samp ,n_jobs=-1)\n",
    "    rf.fit(x_train_h, y_train_h)\n",
    "    predict_test_h = rf.predict(x_test_h)\n",
    "    rmse_test = np.sqrt(metrics.mean_squared_error(predict_test_h, y_test_h))\n",
    "    samp_result.append(rmse_test)"
   ]
  },
  {
   "cell_type": "code",
   "execution_count": 35,
   "metadata": {},
   "outputs": [
    {
     "data": {
      "text/plain": [
       "[3.4039857610243316,\n",
       " 3.4099592113350057,\n",
       " 3.4336055920282518,\n",
       " 3.429803161914939,\n",
       " 3.4431944785073743,\n",
       " 3.4927585136882016]"
      ]
     },
     "execution_count": 35,
     "metadata": {},
     "output_type": "execute_result"
    },
    {
     "data": {
      "image/png": "[encoded data removed]",
      "text/plain": [
       "<Figure size 432x288 with 1 Axes>"
      ]
     },
     "metadata": {},
     "output_type": "display_data"
    }
   ],
   "source": [
    "plt.plot(num_samples, samp_result)\n",
    "plt.xlabel(\"Minimum Number of Samples for a Split\")\n",
    "plt.ylabel(\"Validation RMSE\")"
   ]
  },
  {
   "cell_type": "code",
   "execution_count": null,
   "metadata": {},
   "outputs": [],
   "source": [
    "import matplotlib.patches as mpatches\n",
    "plt.plot(num_trees, test_results_p, color = \"green\")\n",
    "plt.plot(num_trees, test_results_half, color = \"blue\")\n",
    "plt.plot(num_trees, test_results_sqrt, color = \"red\")\n",
    "green_patch = mpatches.Patch(color='green', label= 'm = p')\n",
    "blue_patch = mpatches.Patch(color='blue', label=r'm = $\\frac{p}{2}$')\n",
    "red_patch = mpatches.Patch(color='red', label=r'm = $\\sqrt{p}$')\n",
    "plt.legend(handles = [green_patch, blue_patch, red_patch])\n",
    "plt.title(\"The Effect Maximum Number of Features on Validation RMSE\")\n",
    "plt.ylabel(\"Validation RMSE\")\n",
    "plt.xlabel(\"Number Of Trees\")\n",
    "plt.show()"
   ]
  },
  {
   "cell_type": "code",
   "execution_count": null,
   "metadata": {},
   "outputs": [],
   "source": []
  },
  {
   "cell_type": "code",
   "execution_count": 8,
   "metadata": {},
   "outputs": [
    {
     "name": "stdout",
     "output_type": "stream",
     "text": [
      "3.4055517259727544\n"
     ]
    }
   ],
   "source": [
    "# Training the Random Forest using a max_depth of 13 / Original Latitude and Longitude / Haversine Distance\n",
    "from sklearn.ensemble import RandomForestRegressor\n",
    "rf = RandomForestRegressor(n_estimators = 64, max_depth=13, max_features = 8, n_jobs=-1)\n",
    "rf.fit(x_train_h, y_train_h)\n",
    "predict_test_h = rf.predict(x_test_h)\n",
    "rmse_test = np.sqrt(metrics.mean_squared_error(predict_test_h, y_test_h))\n",
    "print(rmse_test)"
   ]
  },
  {
   "cell_type": "code",
   "execution_count": 9,
   "metadata": {},
   "outputs": [
    {
     "name": "stdout",
     "output_type": "stream",
     "text": [
      "3.480415672799264\n"
     ]
    }
   ],
   "source": [
    "# Training the Random Forest using a max_depth of 13 / Rotated Latitude and Longitude / Haversine Distance\n",
    "from sklearn.ensemble import RandomForestRegressor\n",
    "rf_rot = RandomForestRegressor(n_estimators = 64, max_depth=13, max_features = 8, n_jobs=-1)\n",
    "rf_rot.fit(x_train_h_rot, y_train_h_rot)\n",
    "predict_test_h_rot = rf_rot.predict(x_test_h_rot)\n",
    "rmse_rf_h_rot = np.sqrt(metrics.mean_squared_error(predict_test_h_rot, y_test_h_rot))\n",
    "print(rmse_rf_h_rot)"
   ]
  },
  {
   "cell_type": "code",
   "execution_count": 12,
   "metadata": {},
   "outputs": [],
   "source": [
    "# Adding the Manhattan distance into data set and removing the Haversine distance\n",
    "def manhattan_dist(pickup_lat, pickup_long, dropoff_lat, dropoff_long):\n",
    "    return distance(pickup_lat, pickup_long, pickup_lat, dropoff_long) + distance(pickup_lat, dropoff_long, dropoff_lat, dropoff_long)\n",
    "\n",
    "train_manhattan_rot = train_haversine.copy(deep = True)\n",
    "\n",
    "train_manhattan_rot['trip_distance'] = manhattan_dist(train.pickup_latitude, train.pickup_longitude, \n",
    "                                      train.dropoff_latitude, train.dropoff_longitude)\n",
    "\n",
    "train_manhattan = train_manhattan_rot.copy(deep = True)"
   ]
  },
  {
   "cell_type": "code",
   "execution_count": 13,
   "metadata": {},
   "outputs": [],
   "source": [
    "# Creating two sets of training and testing sets (Manhattan - Original Coordinates and Manhattan - Rotated Coordinates)\n",
    "from sklearn.model_selection import train_test_split\n",
    "random.seed(1038472)\n",
    "train_m_rot, test_m_rot = train_test_split(train_manhattan_rot, test_size=0.2)\n",
    "y_train_m_rot = train_m_rot['fare_amount']\n",
    "x_train_m_rot = train_m_rot.drop(['key', 'fare_amount'], axis = 1)\n",
    "y_test_m_rot = test_m_rot['fare_amount']\n",
    "x_test_m_rot = test_m_rot.drop(['key', 'fare_amount'], axis = 1)\n",
    "\n",
    "train_m, test_m = train_test_split(train_manhattan, test_size=0.2)\n",
    "y_train_m = train_m['fare_amount']\n",
    "x_train_m = train_m.drop(['key', 'fare_amount'], axis = 1)\n",
    "y_test_m = test_m['fare_amount']\n",
    "x_test_m = test_m.drop(['key', 'fare_amount'], axis = 1)"
   ]
  },
  {
   "cell_type": "code",
   "execution_count": 14,
   "metadata": {},
   "outputs": [
    {
     "name": "stdout",
     "output_type": "stream",
     "text": [
      "3.5818021893056233\n"
     ]
    }
   ],
   "source": [
    "# Training the Random Forest using a max_depth of 15 / Original Latitude and Longitude / Manhattan Distance\n",
    "from sklearn.ensemble import RandomForestRegressor\n",
    "rf_m = RandomForestRegressor(n_estimators = 64, max_depth = 13, max_features = 8, n_jobs = -1)\n",
    "rf_m.fit(x_train_m, y_train_m)\n",
    "predict_m = rf_m.predict(x_test_m)\n",
    "rmse_m = np.sqrt(metrics.mean_squared_error(predict_m, y_test_m))\n",
    "print(rmse_m)"
   ]
  },
  {
   "cell_type": "code",
   "execution_count": 15,
   "metadata": {},
   "outputs": [
    {
     "name": "stdout",
     "output_type": "stream",
     "text": [
      "3.5899081038255405\n"
     ]
    }
   ],
   "source": [
    "# Training the Random Forest using a max_depth of 15 / Rotated Latitude and Longitude / Manhattan Distance\n",
    "from sklearn.ensemble import RandomForestRegressor\n",
    "rf_m_rot = RandomForestRegressor(n_estimators= 64, max_depth = 13, max_features = 8, n_jobs = -1)\n",
    "rf_m_rot.fit(x_train_m_rot, y_train_m_rot)\n",
    "predict_m_rot = rf_m_rot.predict(x_test_m_rot)\n",
    "rmse_m_rot = np.sqrt(metrics.mean_squared_error(predict_m_rot, y_test_m_rot))\n",
    "print(rmse_m_rot)"
   ]
  },
  {
   "cell_type": "code",
   "execution_count": 21,
   "metadata": {},
   "outputs": [],
   "source": [
    "from xgboost import XGBRegressor\n",
    "learning_rate = [0.0001, 0.001, 0.01, 0.1, 0.15, 0.175, 0.2, 0.25, 0.275, 0.3]\n",
    "rate_results = []\n",
    "for rate in learning_rate:\n",
    "    rf_boost = XGBRegressor(n_estimators= 64, learning_rate = rate, max_depth = 13, n_jobs = -1)\n",
    "    rf_boost.fit(x_train_h, y_train_h)\n",
    "    predict_boost = rf_boost.predict(x_test_h)\n",
    "    rmse_boost = np.sqrt(metrics.mean_squared_error(predict_boost, y_test_h))\n",
    "    rate_results.append(rmse_boost)\n",
    "    "
   ]
  },
  {
   "cell_type": "code",
   "execution_count": 28,
   "metadata": {},
   "outputs": [
    {
     "data": {
      "text/plain": [
       "Text(0,0.5,'Validation RMSE')"
      ]
     },
     "execution_count": 28,
     "metadata": {},
     "output_type": "execute_result"
    },
    {
     "data": {
      "image/png": "[encoded data removed]",
      "text/plain": [
       "<Figure size 432x288 with 1 Axes>"
      ]
     },
     "metadata": {},
     "output_type": "display_data"
    }
   ],
   "source": [
    "plt.plot(learning_rate[3:9], rate_results[3:9])\n",
    "plt.xlabel(\"Learning Rate\")\n",
    "plt.ylabel(\"Validation RMSE\")"
   ]
  },
  {
   "cell_type": "code",
   "execution_count": 23,
   "metadata": {},
   "outputs": [
    {
     "name": "stdout",
     "output_type": "stream",
     "text": [
      "[14.400009241015638, 13.649868444073746, 8.231753738520245, 3.40026661577118, 3.4089880346296217, 3.4279198431532816, 3.418141837295859, 3.462958263777891, 3.4631680214700213, 3.490255864418407]\n"
     ]
    }
   ],
   "source": [
    "print(rate_results)"
   ]
  },
  {
   "cell_type": "code",
   "execution_count": 29,
   "metadata": {},
   "outputs": [
    {
     "name": "stdout",
     "output_type": "stream",
     "text": [
      "3.40026661577118\n"
     ]
    }
   ],
   "source": [
    "rf_boost = XGBRegressor(n_estimators= 64, learning_rate = 0.1, max_depth = 13, n_jobs = -1)\n",
    "rf_boost.fit(x_train_h, y_train_h)\n",
    "predict_boost = rf_boost.predict(x_test_h)\n",
    "rmse_boost = np.sqrt(metrics.mean_squared_error(predict_boost, y_test_h))\n",
    "rate_results.append(rmse_boost)\n",
    "print(rmse_boost)"
   ]
  },
  {
   "cell_type": "code",
   "execution_count": null,
   "metadata": {},
   "outputs": [],
   "source": []
  }
 ],
 "metadata": {
  "kernelspec": {
   "display_name": "Python 3",
   "language": "python",
   "name": "python3"
  },
  "language_info": {
   "codemirror_mode": {
    "name": "ipython",
    "version": 3
   },
   "file_extension": ".py",
   "mimetype": "text/x-python",
   "name": "python",
   "nbconvert_exporter": "python",
   "pygments_lexer": "ipython3",
   "version": "3.6.5"
  }
 },
 "nbformat": 4,
 "nbformat_minor": 2
}
